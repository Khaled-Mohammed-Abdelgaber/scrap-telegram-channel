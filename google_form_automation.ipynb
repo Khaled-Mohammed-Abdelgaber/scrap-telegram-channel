{
  "nbformat": 4,
  "nbformat_minor": 0,
  "metadata": {
    "colab": {
      "provenance": [],
      "include_colab_link": true
    },
    "kernelspec": {
      "name": "python3",
      "display_name": "Python 3"
    },
    "language_info": {
      "name": "python"
    }
  },
  "cells": [
    {
      "cell_type": "markdown",
      "metadata": {
        "id": "view-in-github",
        "colab_type": "text"
      },
      "source": [
        "<a href=\"https://colab.research.google.com/github/Khaled-Mohammed-Abdelgaber/scrap-telegram-channel/blob/main/google_form_automation.ipynb\" target=\"_parent\"><img src=\"https://colab.research.google.com/assets/colab-badge.svg\" alt=\"Open In Colab\"/></a>"
      ]
    },
    {
      "cell_type": "code",
      "source": [
        "from google.colab import drive\n",
        "drive.mount('/content/drive')"
      ],
      "metadata": {
        "colab": {
          "base_uri": "https://localhost:8080/"
        },
        "id": "HN3r1rYTACEJ",
        "outputId": "6bca743f-f2bd-480b-c985-8eff41a91c95"
      },
      "execution_count": null,
      "outputs": [
        {
          "output_type": "stream",
          "name": "stdout",
          "text": [
            "Drive already mounted at /content/drive; to attempt to forcibly remount, call drive.mount(\"/content/drive\", force_remount=True).\n"
          ]
        }
      ]
    },
    {
      "cell_type": "code",
      "source": [
        "import pandas as pd\n",
        "import numpy as np\n",
        "\n",
        "df = pd.read_csv(\"/content/teams_selection - ردود النموذج 1.csv\")\n",
        "df.head()"
      ],
      "metadata": {
        "id": "wWMrek98ALqW"
      },
      "execution_count": null,
      "outputs": []
    },
    {
      "cell_type": "code",
      "source": [
        "df.columns"
      ],
      "metadata": {
        "colab": {
          "base_uri": "https://localhost:8080/"
        },
        "id": "rAdic4hSEBDZ",
        "outputId": "5d0f77b0-2241-4297-da13-79c5e526002d"
      },
      "execution_count": null,
      "outputs": [
        {
          "output_type": "execute_result",
          "data": {
            "text/plain": [
              "Index(['طابع زمني', 'your name ', 'your email ', 'Team name',\n",
              "       'choose second member  automatic ',\n",
              "       ' if answer no write second member name',\n",
              "       'if answer no write second member email ',\n",
              "       'choosing third member automatic ',\n",
              "       'if answer no write third member name',\n",
              "       'if answer no write third member email ',\n",
              "       ' select your interest topic for project'],\n",
              "      dtype='object')"
            ]
          },
          "metadata": {},
          "execution_count": 271
        }
      ]
    },
    {
      "cell_type": "code",
      "source": [
        "df.drop_duplicates(subset=['your name '], keep='first', inplace=True)\n",
        "df.head()\n"
      ],
      "metadata": {
        "id": "cR3xAjv9Fv3i"
      },
      "execution_count": null,
      "outputs": []
    },
    {
      "cell_type": "code",
      "source": [
        "people_alone = df[(df[\"choosing third member automatic \"] == \"yes\") & (df[\"choose second member  automatic \"] == \"yes\")]"
      ],
      "metadata": {
        "id": "jphYx8vFAh8x"
      },
      "execution_count": null,
      "outputs": []
    },
    {
      "cell_type": "code",
      "source": [
        "teams = df[(df[\"choosing third member automatic \"] == \"No\") | (df[\"choose second member  automatic \"] == \"No\")]"
      ],
      "metadata": {
        "id": "ViQzoP7qKeX2"
      },
      "execution_count": null,
      "outputs": []
    },
    {
      "cell_type": "code",
      "source": [
        "people_alone"
      ],
      "metadata": {
        "id": "aWGD9kkLBadC"
      },
      "execution_count": null,
      "outputs": []
    },
    {
      "cell_type": "code",
      "source": [
        "teams"
      ],
      "metadata": {
        "id": "gERDMmfsKw70"
      },
      "execution_count": null,
      "outputs": []
    },
    {
      "cell_type": "code",
      "source": [
        "\n",
        "people_alone['your email ']"
      ],
      "metadata": {
        "id": "Mn91fDLzEsOu"
      },
      "execution_count": null,
      "outputs": []
    },
    {
      "cell_type": "code",
      "source": [
        "def check_duplicate(email):\n",
        "  if email in df[\"if answer no write second member email \"].values:\n",
        "    return df[df[\"if answer no write second member email \"] == email][\"if answer no write second member email \"].values[0]\n",
        "  elif email in df[\"if answer no write third member email \"].values:\n",
        "    return df[df[\"if answer no write third member email \"] == email][\"if answer no write third member email \"].values[0]\n",
        "  else:\n",
        "    return \"NO\"\n",
        "\n",
        "people_alone['dublicate'] = people_alone['your email '].apply(check_duplicate)\n",
        "people_alone"
      ],
      "metadata": {
        "id": "EwCyp9q4EwfL"
      },
      "execution_count": null,
      "outputs": []
    },
    {
      "cell_type": "code",
      "source": [
        "people_alone = people_alone[people_alone['dublicate'] == 'NO']\n",
        "people_alone\n"
      ],
      "metadata": {
        "id": "OK09wqP3HZoS"
      },
      "execution_count": null,
      "outputs": []
    },
    {
      "cell_type": "code",
      "source": [
        "import random\n",
        "def randam_add(data_frame, teams):\n",
        "  other_df = teams.copy()\n",
        "  data_frame = data_frame.sample(frac=1).reset_index(drop=True)\n",
        "  for row in data_frame.iterrows():\n",
        "    chosen_row = other_df.index[other_df['choose second member  automatic '] == 'yes'].tolist()\n",
        "    chosen_row2 = other_df.index[other_df['choosing third member automatic '] == 'yes'].tolist()\n",
        "\n",
        "    if chosen_row!=[]:\n",
        "          other_df.loc[chosen_row[0], other_df.columns[[4,5,6]]] = ['NO',row[1]['your name '], row[1]['your email '] ]\n",
        "          other_df.loc[chosen_row[0], other_df.columns[-1]] +=\" ,\"+ row[1][\" select your interest topic for project\"]\n",
        "    else:\n",
        "      if chosen_row2!=[]:\n",
        "        other_df.loc[chosen_row2[0], other_df.columns[[7,8,9]]] = ['NO',row[1]['your name '], row[1]['your email ']]\n",
        "        other_df.loc[chosen_row2[0], other_df.columns[-1]] +=\" ,\"+row[1][\" select your interest topic for project\"]\n",
        "      else:\n",
        "        # Find the next available index\n",
        "        new_index = other_df.index.max() + 1\n",
        "        # Create a new row as a dictionary\n",
        "        new_row = {\n",
        "            'طابع زمني': '',\n",
        "            'your name ': row[1]['your name '],\n",
        "            'your email ': row[1]['your email '],\n",
        "            'Team name': '',\n",
        "            'choose second member  automatic ': 'yes',\n",
        "            ' if answer no write second member name': '',\n",
        "            'if answer no write second member email ': '',\n",
        "            'choosing third member automatic ': 'yes',\n",
        "            'if answer no write third member name': '',\n",
        "            'if answer no write third member email ': '',\n",
        "            ' select your interest topic for project': row[1][\" select your interest topic for project\"]\n",
        "        }\n",
        "        other_df.loc[new_index] = new_row\n",
        "  return other_df"
      ],
      "metadata": {
        "id": "H1xCMvfDIgfQ"
      },
      "execution_count": null,
      "outputs": []
    },
    {
      "cell_type": "code",
      "source": [
        "new_teams=randam_add(people_alone,teams)"
      ],
      "metadata": {
        "colab": {
          "base_uri": "https://localhost:8080/"
        },
        "id": "bEQg0ToiJ_j-",
        "outputId": "3afd5450-2a09-44c6-a71b-6dbc4d40c426"
      },
      "execution_count": null,
      "outputs": [
        {
          "output_type": "stream",
          "name": "stderr",
          "text": [
            "<ipython-input-280-0f8192b1cf18>:14: FutureWarning: Setting an item of incompatible dtype is deprecated and will raise in a future error of pandas. Value 'Mohamad ashour' has dtype incompatible with float64, please explicitly cast to a compatible dtype first.\n",
            "  other_df.loc[chosen_row2[0], other_df.columns[[7,8,9]]] = ['NO',row[1]['your name '], row[1]['your email ']]\n",
            "<ipython-input-280-0f8192b1cf18>:14: FutureWarning: Setting an item of incompatible dtype is deprecated and will raise in a future error of pandas. Value 'mohamad.youssef96@gmail.com' has dtype incompatible with float64, please explicitly cast to a compatible dtype first.\n",
            "  other_df.loc[chosen_row2[0], other_df.columns[[7,8,9]]] = ['NO',row[1]['your name '], row[1]['your email ']]\n"
          ]
        }
      ]
    },
    {
      "cell_type": "code",
      "source": [
        "\n",
        "teams"
      ],
      "metadata": {
        "id": "ACTfWNG8W3li"
      },
      "execution_count": null,
      "outputs": []
    },
    {
      "cell_type": "code",
      "source": [
        "\n",
        "new_teams"
      ],
      "metadata": {
        "id": "r4VNmT5oSSND"
      },
      "execution_count": null,
      "outputs": []
    },
    {
      "cell_type": "code",
      "source": [
        "def remove_duplicates(row):\n",
        "  if pd.isna(row):\n",
        "    return \"\"\n",
        "\n",
        "  unique_items = list(set(row.split(\",\")))\n",
        "  print(unique_items)\n",
        "  return \", \".join(unique_items)\n",
        "\n",
        "new_teams[' select your interest topic for project'] = new_teams[' select your interest topic for project'].apply(remove_duplicates)\n"
      ],
      "metadata": {
        "colab": {
          "base_uri": "https://localhost:8080/"
        },
        "id": "_qjKbNx7cvsU",
        "outputId": "9345d40b-30ef-4744-cb5e-b3e365604466"
      },
      "execution_count": null,
      "outputs": [
        {
          "output_type": "stream",
          "name": "stdout",
          "text": [
            "[' generative AI', 'computer vision', ' NLP', ' AWS cloud ']\n",
            "[' Data analysis', ' data engineer', 'computer vision', ' NLP', ' customer segmentation', 'NLP', ' Tabular data', ' customer segmentation ', ' AWS cloud', ' generative AI', ' Time series']\n",
            "[' Data analysis ', ' Data analysis', ' data engineer', 'computer vision', ' NLP', ' customer segmentation', ' Tabular data', ' AWS cloud', ' generative AI', ' Time series']\n",
            "[' Data analysis', 'computer vision', 'Time series', ' NLP', ' customer segmentation', ' customer segmentation ', ' AWS cloud', 'AWS cloud ', ' Time series']\n"
          ]
        }
      ]
    },
    {
      "cell_type": "code",
      "source": [
        "team_names = [\n",
        "    \"NileBots 🌊🤖\",\n",
        "    \"Pyramid Coders 🏜️💻\",\n",
        "    \"Sphinx Minds 🦁💡\",\n",
        "    \"DesertCloud Innovators ☁️🌵\",\n",
        "    \"Pharaoh's AI 👑🧠\",\n",
        "    \"CamelCloud 🐪☁️\",\n",
        "    \"AI Nile Navigators 🚢🔍\",\n",
        "    \"CairoCoders 🏙️💻\",\n",
        "    \"AWSphinx 🦁☁️\",\n",
        "    \"Arabian Algorithms 🔢🌍\",\n",
        "    \"Desert Data Drivers 🚗💽\",\n",
        "    \"Fustat AI Pioneers 🏙️🚀\",\n",
        "    \"CairoCloud Coders ☁️💻\",\n",
        "    \"MENA Machine Masters 🌍🧠\",\n",
        "    \"Sahara Circuits 🏜️🔄\",\n",
        "    \"PyramidAI 🏜️🧠\",\n",
        "    \"Amun Cloud Engineers 🌩️🔧\",\n",
        "    \"FaraCode 👑💻\",\n",
        "    \"RedSea Coders 🌊💻\",\n",
        "    \"AWS Nile Navigators 🚢☁️\",\n",
        "    \"Shonen AI Shoguns 🧠⚔️\",\n",
        "    \"Ninja Neural Networks 🥷💻\",\n",
        "    \"Code Alchemists ⚗️💻\",\n",
        "    \"Mecha Minds 🤖🧠\",\n",
        "    \"Otaku Coders 🎌💻\",\n",
        "    \"Ghibli Cloud Creators 🌬️☁️\",\n",
        "    \"Kawaii Coders 🐾💻\",\n",
        "    \"Cloud Kages ☁️👑\",\n",
        "    \"AI Saiyans 💥🧠\",\n",
        "    \"Machine Learning Mavericks 🚀🧠\",\n",
        "    \"Data Benders 🌊📊\",\n",
        "    \"Neural Titans 🏰🧠\",\n",
        "    \"MechaMachine Masters 🛠️🤖\",\n",
        "    \"Cloud Shinobi ☁️🥷\",\n",
        "    \"AI Noobs 🚀🧠\",\n",
        "    \"Sphinx Samurai 🦁⚔️\",\n",
        "]\n"
      ],
      "metadata": {
        "id": "pZzn9C4ngZK5"
      },
      "execution_count": null,
      "outputs": []
    },
    {
      "cell_type": "code",
      "source": [
        "# prompt: install dotenv ,email\n",
        "\n",
        "!pip install python-dotenv\n"
      ],
      "metadata": {
        "colab": {
          "base_uri": "https://localhost:8080/"
        },
        "id": "apkLI3XSkbx4",
        "outputId": "f82d3203-a081-45ab-f81a-a614dc795bb2"
      },
      "execution_count": null,
      "outputs": [
        {
          "output_type": "stream",
          "name": "stdout",
          "text": [
            "Requirement already satisfied: python-dotenv in /usr/local/lib/python3.10/dist-packages (1.0.1)\n"
          ]
        }
      ]
    },
    {
      "cell_type": "code",
      "source": [
        "import os\n",
        "from dotenv import load_dotenv\n",
        "import smtplib\n",
        "from email.mime.multipart import MIMEMultipart\n",
        "from email.mime.text import MIMEText\n",
        "\n",
        "# Load environment variables from .env file\n",
        "load_dotenv()\n",
        "\n",
        "# Get email configuration from environment variables\n",
        "sender_email = os.getenv('SENDER_EMAIL')\n",
        "sender_password = os.getenv('SENDER_PASSWORD')\n",
        "smtp_server = os.getenv('SMTP_SERVER')\n",
        "smtp_port = int(os.getenv('SMTP_PORT'))\n",
        "\n",
        "def send_email(team_name, team_members, team_emails, interested_topics):\n",
        "    # Create an SMTP session\n",
        "    # server = smtplib.SMTP(smtp_server, smtp_port)\n",
        "    # server.starttls()\n",
        "    # server.login(sender_email, sender_password)\n",
        "\n",
        "    # Loop through each team member and send the email\n",
        "    for i, member in enumerate(team_members):\n",
        "        # member_email = team_emails[i]\n",
        "        # interested_topic = interested_topics[i]\n",
        "\n",
        "        # # Create the email content\n",
        "        # msg = MIMEMultipart()\n",
        "        # msg['From'] = sender_email\n",
        "        # msg['To'] = member_email\n",
        "        # msg['Subject'] = f\"🎉 Welcome to the {team_name} Team! 🚀\"\n",
        "\n",
        "        # Email body template\n",
        "        body = f\"\"\"\n",
        "        Hi {member}! 👋\n",
        "\n",
        "        🎉 **Congratulations!** 🎉 You have been selected to join the **'{team_name}'** team for our upcoming machine learning project. We're thrilled to have you on board!\n",
        "\n",
        "        **Here are the members of your amazing team:**\n",
        "        \"\"\"\n",
        "        for m, e in zip(team_members, team_emails):\n",
        "            body += f\"\\n- {m} (📧: {e}\"\n",
        "        body +=f\", \\n 🎯 Interested in: {interested_topics})\\n\\n\"\n",
        "\n",
        "        # Add a closing message\n",
        "        body += f\"\"\"\n",
        "\n",
        "        We're excited to see what incredible ideas you'll come up with! 💡 Feel free to connect with your team members and start brainstorming. Let's make something extraordinary together! 🌟\n",
        "\n",
        "        👉 **Don't forget to fill out the form provided by the Ministry of Egyptian Communication** to share your ideas and preferences 📝.\n",
        "\n",
        "        Let's work hard, innovate, and have some fun along the way! 🚀\n",
        "\n",
        "        Best regards,\n",
        "        Mahamed Bekheet 😊\n",
        "        Machine Learning Engineer\n",
        "        \"\"\"\n",
        "        print(body)\n",
        "        # # Attach the email body\n",
        "    #     msg.attach(MIMEText(body, 'plain'))\n",
        "\n",
        "    #     # Send the email\n",
        "    #     server.sendmail(sender_email, member_email, msg.as_string())\n",
        "    #     print(f\"Email sent to {member} ({member_email})\")\n",
        "\n",
        "    # # Close the SMTP session\n",
        "    # server.quit()\n",
        "\n"
      ],
      "metadata": {
        "id": "n3zS-lsrWpd6"
      },
      "execution_count": null,
      "outputs": []
    },
    {
      "cell_type": "code",
      "source": [
        "for row in new_teams.iterrows():\n",
        "  team_name = random.choice(team_names)\n",
        "  team_members = [row[1]['your name '], row[1][' if answer no write second member name'], row[1]['if answer no write third member name']]\n",
        "  team_emails = [row[1]['your email '], row[1]['if answer no write second member email '], row[1]['if answer no write third member email ']]\n",
        "  interested_topics = row[1][' select your interest topic for project']\n",
        "  send_email(team_name, team_members, team_emails, interested_topics)"
      ],
      "metadata": {
        "id": "mOVPul_sl8LT"
      },
      "execution_count": null,
      "outputs": []
    },
    {
      "cell_type": "code",
      "source": [],
      "metadata": {
        "id": "7_WxJ7n6zO05"
      },
      "execution_count": null,
      "outputs": []
    }
  ]
}